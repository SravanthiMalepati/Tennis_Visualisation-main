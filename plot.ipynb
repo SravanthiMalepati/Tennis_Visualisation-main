{
 "metadata": {
  "language_info": {
   "codemirror_mode": {
    "name": "ipython",
    "version": 3
   },
   "file_extension": ".py",
   "mimetype": "text/x-python",
   "name": "python",
   "nbconvert_exporter": "python",
   "pygments_lexer": "ipython3",
   "version": "3.7.6-final"
  },
  "orig_nbformat": 2,
  "kernelspec": {
   "name": "python37664bitbaseconda99480950c507477395edeeb7d50ec262",
   "display_name": "Python 3.7.6 64-bit ('base': conda)",
   "language": "python"
  }
 },
 "nbformat": 4,
 "nbformat_minor": 2,
 "cells": [
  {
   "cell_type": "code",
   "execution_count": 205,
   "metadata": {},
   "outputs": [],
   "source": [
    "import pandas as pd\n",
    "import numpy as np\n",
    "import re\n",
    "import dash\n",
    "import math\n",
    "import dash_core_components as dcc\n",
    "import dash_html_components as html\n",
    "from dash.dependencies import Input, Output\n",
    "import plotly.express as px\n",
    "from plotly.subplots import make_subplots\n",
    "import plotly.graph_objects as go\n"
   ]
  },
  {
   "cell_type": "code",
   "execution_count": 206,
   "metadata": {},
   "outputs": [],
   "source": [
    "#fill nan values in points table with the player scores.\n",
    "def fill_nan_in_points(point, p1_score,p2_score):\n",
    "    #print(point, type(point))\n",
    "    if pd.isnull(point) or len(point) > 6:\n",
    "        #print(len(point))\n",
    "        point = str(p1_score)+'-'+str(p2_score)\n",
    "    return point\n",
    "\n",
    "\n",
    "\n",
    "#https://www.tennislive.net/wta/match/shuko-aoyama-ena-shibahara-VS-lizette-cabrera-maddison-inglis/australian-open-melbourne-2021/\n",
    "\n",
    "#follwing code takes the points and splits the points into sepeate values for two players.\n",
    "def split_it(point):\n",
    "    point = str(point)\n",
    "    x = point.split('-')\n",
    "    \n",
    "    if len(x) == 2:\n",
    "        if x[0] == ' A':\n",
    "            x[0] = '45'\n",
    "        elif x[1] == 'A':\n",
    "            x[1] = '45'\n",
    "    return x\n",
    "\n",
    "#following code to create x axis, like only markers\n",
    "def set_number_(lis,set_):\n",
    "    global i,set_no\n",
    "    if set_no != set_:\n",
    "        i = 0\n",
    "        set_no = set_\n",
    "    if lis == ['0','0']:\n",
    "        i = i+1\n",
    "    return i\n",
    "\n",
    "#reads the input file which has data and converts it into a dataframe\n",
    "dataframe = pd.read_csv('point_missing_in_set_1_or_set_2.csv')\n",
    "dataframe.head()\n",
    "\n",
    "#fill nan values with defalut data when set one or two - missing points information.\n",
    "\n",
    "new_df = dataframe[dataframe['points'].isnull()]\n",
    "new_df = new_df[new_df['set_index'].isin([2, 1])]\n",
    "dataframe.drop(new_df.index[0], inplace=True)\n",
    "points_if_1player_winner = ['0-0','15-0','30-0','40-0']\n",
    "points_if_2player_winner = ['0-0','0-15','0-30','0-40']\n",
    "if new_df['player1_game_score'].tolist()[0] > new_df['player2_game_score'].tolist()[0]:\n",
    "    x = (points_if_1player_winner)\n",
    "else:\n",
    "    x = (points_if_2player_winner)\n",
    "new_df = new_df.append([new_df]*3)\n",
    "new_df['points'] = x\n",
    "dataframe = dataframe.append(new_df)\n",
    "dataframe.reset_index(inplace=True)\n",
    "dataframe.drop(['index'], axis=1, inplace=True)\n",
    "\n",
    "\n",
    "\n",
    "\n",
    "#final result details\n",
    "results_ = dataframe.result.unique()\n",
    "\n",
    "#the followinng code will find the max points reached in the game, so that we can plot that many columns on graph\n",
    "de = re.split('-|,| ',results_[0])\n",
    "de = [int(x) for x in de if x!= '']\n",
    "#columns_ = max(de)\n",
    "\n",
    "dataframe.rename(columns={'round':'round_'}, inplace = True)\n",
    "tournament_name = dataframe.tournament.unique()\n",
    "round_number = dataframe.round_.unique()\n",
    "#Drops unrequired columns\n",
    "dataframe.drop(['player1_name','player2_name','tournament','round_','break_point','result','surface','date'], axis=1, inplace=True)\n",
    "\n",
    "#Finds the players names\n",
    "playernames = dataframe.server.unique()\n",
    "\n",
    "#sets a new column as servernumber denotes 0 or 1 on basis of who is playing\n",
    "dataframe['server_number'] = np.where(dataframe['server'] == playernames[0], 0, 1)\n",
    "\n",
    "#in the data frame we could see some points data is missing as a part of data manipulation and cleaning we are filling the empty fields with player socres like 'player1_score-player2_score'\n",
    "dataframe['points'] = dataframe.apply(lambda x:fill_nan_in_points(x['points'],x['player1_game_score'],x['player2_game_score']),axis = 1)\n",
    "\n",
    "\n",
    "dataframe['points_to_list'] = dataframe['points'].apply(split_it)\n",
    "dataframe[['points_of_1','points_of_2']] = pd.DataFrame(dataframe.points_to_list.tolist())\n",
    "\n",
    "#rename few columns name for further operation like set_index\n",
    "dataframe.rename(columns={'set_index':'set_details'}, inplace = True)\n",
    "\n",
    "#no_of_sets for use of no of plots.\n",
    "no_of_sets = dataframe.set_details.unique()\n",
    "\n",
    "dataframe['set_number']= 0\n",
    "\n",
    "\n",
    "\n",
    "#global variables i and set_no\n",
    "i = 0\n",
    "set_no = 0\n",
    "dataframe['set_number'] = dataframe.apply(lambda x: set_number_(x['points_to_list'],x['set_details']), axis = 1)\n",
    "\n",
    "columns_ = []\n",
    "for k in no_of_sets:\n",
    "    set_details_unique_ = dataframe.where(dataframe['set_details']==k).set_number.unique()\n",
    "    cleanedList = [int(x) for x in set_details_unique_ if str(x) != 'nan']\n",
    "    columns_.append(max(cleanedList))"
   ]
  },
  {
   "cell_type": "code",
   "execution_count": 207,
   "metadata": {},
   "outputs": [
    {
     "output_type": "execute_result",
     "data": {
      "text/plain": [
       "    set_details  player1_game_score  player2_game_score  \\\n",
       "65            2                   5                   4   \n",
       "66            2                   5                   4   \n",
       "67            2                   5                   4   \n",
       "68            2                   5                   4   \n",
       "69            2                   5                   4   \n",
       "70            2                   5                   4   \n",
       "71            2                   6                   4   \n",
       "72            2                   6                   4   \n",
       "73            2                   6                   4   \n",
       "74            2                   6                   4   \n",
       "\n",
       "                                server  points  server_number points_to_list  \\\n",
       "65  Juan-Sebastian Cabal/Robert Farah      0-0              1         [0, 0]   \n",
       "66  Juan-Sebastian Cabal/Robert Farah     15-0              1       [ 15, 0]   \n",
       "67  Juan-Sebastian Cabal/Robert Farah     30-0              1       [ 30, 0]   \n",
       "68  Juan-Sebastian Cabal/Robert Farah     40-0              1       [ 40, 0]   \n",
       "69  Juan-Sebastian Cabal/Robert Farah    40-15              1      [ 40, 15]   \n",
       "70  Juan-Sebastian Cabal/Robert Farah    40-30              1      [ 40, 30]   \n",
       "71   Matthew Ebden/John-Patrick Smith      0-0              0         [0, 0]   \n",
       "72   Matthew Ebden/John-Patrick Smith     15-0              0        [15, 0]   \n",
       "73   Matthew Ebden/John-Patrick Smith     30-0              0        [30, 0]   \n",
       "74   Matthew Ebden/John-Patrick Smith     40-0              0        [40, 0]   \n",
       "\n",
       "   points_of_1 points_of_2  set_number  \n",
       "65           0           0          10  \n",
       "66          15           0          10  \n",
       "67          30           0          10  \n",
       "68          40           0          10  \n",
       "69          40          15          10  \n",
       "70          40          30          10  \n",
       "71           0           0          11  \n",
       "72          15           0          11  \n",
       "73          30           0          11  \n",
       "74          40           0          11  "
      ],
      "text/html": "<div>\n<style scoped>\n    .dataframe tbody tr th:only-of-type {\n        vertical-align: middle;\n    }\n\n    .dataframe tbody tr th {\n        vertical-align: top;\n    }\n\n    .dataframe thead th {\n        text-align: right;\n    }\n</style>\n<table border=\"1\" class=\"dataframe\">\n  <thead>\n    <tr style=\"text-align: right;\">\n      <th></th>\n      <th>set_details</th>\n      <th>player1_game_score</th>\n      <th>player2_game_score</th>\n      <th>server</th>\n      <th>points</th>\n      <th>server_number</th>\n      <th>points_to_list</th>\n      <th>points_of_1</th>\n      <th>points_of_2</th>\n      <th>set_number</th>\n    </tr>\n  </thead>\n  <tbody>\n    <tr>\n      <th>65</th>\n      <td>2</td>\n      <td>5</td>\n      <td>4</td>\n      <td>Juan-Sebastian Cabal/Robert Farah</td>\n      <td>0-0</td>\n      <td>1</td>\n      <td>[0, 0]</td>\n      <td>0</td>\n      <td>0</td>\n      <td>10</td>\n    </tr>\n    <tr>\n      <th>66</th>\n      <td>2</td>\n      <td>5</td>\n      <td>4</td>\n      <td>Juan-Sebastian Cabal/Robert Farah</td>\n      <td>15-0</td>\n      <td>1</td>\n      <td>[ 15, 0]</td>\n      <td>15</td>\n      <td>0</td>\n      <td>10</td>\n    </tr>\n    <tr>\n      <th>67</th>\n      <td>2</td>\n      <td>5</td>\n      <td>4</td>\n      <td>Juan-Sebastian Cabal/Robert Farah</td>\n      <td>30-0</td>\n      <td>1</td>\n      <td>[ 30, 0]</td>\n      <td>30</td>\n      <td>0</td>\n      <td>10</td>\n    </tr>\n    <tr>\n      <th>68</th>\n      <td>2</td>\n      <td>5</td>\n      <td>4</td>\n      <td>Juan-Sebastian Cabal/Robert Farah</td>\n      <td>40-0</td>\n      <td>1</td>\n      <td>[ 40, 0]</td>\n      <td>40</td>\n      <td>0</td>\n      <td>10</td>\n    </tr>\n    <tr>\n      <th>69</th>\n      <td>2</td>\n      <td>5</td>\n      <td>4</td>\n      <td>Juan-Sebastian Cabal/Robert Farah</td>\n      <td>40-15</td>\n      <td>1</td>\n      <td>[ 40, 15]</td>\n      <td>40</td>\n      <td>15</td>\n      <td>10</td>\n    </tr>\n    <tr>\n      <th>70</th>\n      <td>2</td>\n      <td>5</td>\n      <td>4</td>\n      <td>Juan-Sebastian Cabal/Robert Farah</td>\n      <td>40-30</td>\n      <td>1</td>\n      <td>[ 40, 30]</td>\n      <td>40</td>\n      <td>30</td>\n      <td>10</td>\n    </tr>\n    <tr>\n      <th>71</th>\n      <td>2</td>\n      <td>6</td>\n      <td>4</td>\n      <td>Matthew Ebden/John-Patrick Smith</td>\n      <td>0-0</td>\n      <td>0</td>\n      <td>[0, 0]</td>\n      <td>0</td>\n      <td>0</td>\n      <td>11</td>\n    </tr>\n    <tr>\n      <th>72</th>\n      <td>2</td>\n      <td>6</td>\n      <td>4</td>\n      <td>Matthew Ebden/John-Patrick Smith</td>\n      <td>15-0</td>\n      <td>0</td>\n      <td>[15, 0]</td>\n      <td>15</td>\n      <td>0</td>\n      <td>11</td>\n    </tr>\n    <tr>\n      <th>73</th>\n      <td>2</td>\n      <td>6</td>\n      <td>4</td>\n      <td>Matthew Ebden/John-Patrick Smith</td>\n      <td>30-0</td>\n      <td>0</td>\n      <td>[30, 0]</td>\n      <td>30</td>\n      <td>0</td>\n      <td>11</td>\n    </tr>\n    <tr>\n      <th>74</th>\n      <td>2</td>\n      <td>6</td>\n      <td>4</td>\n      <td>Matthew Ebden/John-Patrick Smith</td>\n      <td>40-0</td>\n      <td>0</td>\n      <td>[40, 0]</td>\n      <td>40</td>\n      <td>0</td>\n      <td>11</td>\n    </tr>\n  </tbody>\n</table>\n</div>"
     },
     "metadata": {},
     "execution_count": 207
    }
   ],
   "source": [
    "\n",
    "dataframe.tail(10)"
   ]
  },
  {
   "cell_type": "code",
   "execution_count": 208,
   "metadata": {
    "tags": []
   },
   "outputs": [
    {
     "output_type": "display_data",
     "data": {
      "application/vnd.plotly.v1+json": {
       "config": {
        "plotlyServerURL": "https://plot.ly"
       },
       "data": [
        {
         "line": {
          "color": "red"
         },
         "type": "scatter",
         "x": [
          0,
          1,
          2,
          3
         ],
         "xaxis": "x",
         "y": [
          "0",
          " 15",
          " 30",
          " 40"
         ],
         "yaxis": "y"
        },
        {
         "line": {
          "color": "blue"
         },
         "type": "scatter",
         "x": [
          0,
          1,
          2,
          3
         ],
         "xaxis": "x",
         "y": [
          "0",
          "0",
          "0",
          "0"
         ],
         "yaxis": "y"
        },
        {
         "line": {
          "color": "red"
         },
         "type": "scatter",
         "x": [
          0,
          1,
          2
         ],
         "xaxis": "x2",
         "y": [
          "0",
          " 15",
          " 30"
         ],
         "yaxis": "y2"
        },
        {
         "line": {
          "color": "blue"
         },
         "type": "scatter",
         "x": [
          0,
          1,
          2
         ],
         "xaxis": "x2",
         "y": [
          "0",
          "0",
          "0"
         ],
         "yaxis": "y2"
        },
        {
         "line": {
          "color": "red"
         },
         "type": "scatter",
         "x": [
          0,
          1,
          2,
          3,
          4
         ],
         "xaxis": "x3",
         "y": [
          "0",
          " 15",
          " 15",
          " 15",
          " 15"
         ],
         "yaxis": "y3"
        },
        {
         "line": {
          "color": "blue"
         },
         "type": "scatter",
         "x": [
          0,
          1,
          2,
          3,
          4
         ],
         "xaxis": "x3",
         "y": [
          "0",
          "0",
          "15",
          "30",
          "40"
         ],
         "yaxis": "y3"
        },
        {
         "line": {
          "color": "red"
         },
         "type": "scatter",
         "x": [
          0,
          1,
          2,
          3
         ],
         "xaxis": "x4",
         "y": [
          "0",
          " 15",
          " 30",
          " 40"
         ],
         "yaxis": "y4"
        },
        {
         "line": {
          "color": "blue"
         },
         "type": "scatter",
         "x": [
          0,
          1,
          2,
          3
         ],
         "xaxis": "x4",
         "y": [
          "0",
          "0",
          "0",
          "0"
         ],
         "yaxis": "y4"
        },
        {
         "line": {
          "color": "red"
         },
         "type": "scatter",
         "x": [
          0,
          1,
          2,
          3,
          4,
          5
         ],
         "xaxis": "x12",
         "y": [
          "0",
          " 15",
          " 15",
          " 30",
          " 30",
          " 30"
         ],
         "yaxis": "y12"
        },
        {
         "line": {
          "color": "blue"
         },
         "type": "scatter",
         "x": [
          0,
          1,
          2,
          3,
          4,
          5
         ],
         "xaxis": "x12",
         "y": [
          "0",
          "0",
          "15",
          "15",
          "30",
          "40"
         ],
         "yaxis": "y12"
        },
        {
         "line": {
          "color": "red"
         },
         "type": "scatter",
         "x": [
          0,
          1,
          2,
          3,
          4
         ],
         "xaxis": "x13",
         "y": [
          "0",
          " 0",
          " 15",
          " 30",
          " 40"
         ],
         "yaxis": "y13"
        },
        {
         "line": {
          "color": "blue"
         },
         "type": "scatter",
         "x": [
          0,
          1,
          2,
          3,
          4
         ],
         "xaxis": "x13",
         "y": [
          "0",
          "15",
          "15",
          "15",
          "15"
         ],
         "yaxis": "y13"
        },
        {
         "line": {
          "color": "red"
         },
         "type": "scatter",
         "x": [
          0,
          1,
          2,
          3,
          4,
          5,
          6
         ],
         "xaxis": "x14",
         "y": [
          "0",
          " 15",
          " 30",
          " 30",
          " 30",
          " 40",
          " 40"
         ],
         "yaxis": "y14"
        },
        {
         "line": {
          "color": "blue"
         },
         "type": "scatter",
         "x": [
          0,
          1,
          2,
          3,
          4,
          5,
          6
         ],
         "xaxis": "x14",
         "y": [
          "0",
          "0",
          "0",
          "15",
          "30",
          "30",
          "40"
         ],
         "yaxis": "y14"
        },
        {
         "line": {
          "color": "red"
         },
         "type": "scatter",
         "x": [
          0,
          1,
          2,
          3
         ],
         "xaxis": "x15",
         "y": [
          "0",
          " 15",
          " 30",
          " 40"
         ],
         "yaxis": "y15"
        },
        {
         "line": {
          "color": "blue"
         },
         "type": "scatter",
         "x": [
          0,
          1,
          2,
          3
         ],
         "xaxis": "x15",
         "y": [
          "0",
          "0",
          "0",
          "0"
         ],
         "yaxis": "y15"
        },
        {
         "line": {
          "color": "red"
         },
         "type": "scatter",
         "x": [
          0,
          1,
          2,
          3,
          4
         ],
         "xaxis": "x16",
         "y": [
          "0",
          " 0",
          " 0",
          " 15",
          " 15"
         ],
         "yaxis": "y16"
        },
        {
         "line": {
          "color": "blue"
         },
         "type": "scatter",
         "x": [
          0,
          1,
          2,
          3,
          4
         ],
         "xaxis": "x16",
         "y": [
          "0",
          "15",
          "30",
          "30",
          "40"
         ],
         "yaxis": "y16"
        },
        {
         "line": {
          "color": "red"
         },
         "type": "scatter",
         "x": [
          0,
          1,
          2,
          3,
          4,
          5
         ],
         "xaxis": "x17",
         "y": [
          "0",
          " 15",
          " 15",
          " 15",
          " 30",
          " 40"
         ],
         "yaxis": "y17"
        },
        {
         "line": {
          "color": "blue"
         },
         "type": "scatter",
         "x": [
          0,
          1,
          2,
          3,
          4,
          5
         ],
         "xaxis": "x17",
         "y": [
          "0",
          "0",
          "15",
          "30",
          "30",
          "30"
         ],
         "yaxis": "y17"
        },
        {
         "line": {
          "color": "red"
         },
         "type": "scatter",
         "x": [
          0,
          1,
          2,
          3
         ],
         "xaxis": "x18",
         "y": [
          "0",
          " 0",
          " 0",
          " 0"
         ],
         "yaxis": "y18"
        },
        {
         "line": {
          "color": "blue"
         },
         "type": "scatter",
         "x": [
          0,
          1,
          2,
          3
         ],
         "xaxis": "x18",
         "y": [
          "0",
          "15",
          "30",
          "40"
         ],
         "yaxis": "y18"
        },
        {
         "line": {
          "color": "red"
         },
         "type": "scatter",
         "x": [
          0,
          1,
          2,
          3,
          4,
          5
         ],
         "xaxis": "x19",
         "y": [
          "0",
          " 0",
          " 15",
          " 30",
          " 40",
          " 40"
         ],
         "yaxis": "y19"
        },
        {
         "line": {
          "color": "blue"
         },
         "type": "scatter",
         "x": [
          0,
          1,
          2,
          3,
          4,
          5
         ],
         "xaxis": "x19",
         "y": [
          "0",
          "15",
          "15",
          "15",
          "15",
          "30"
         ],
         "yaxis": "y19"
        },
        {
         "line": {
          "color": "red"
         },
         "type": "scatter",
         "x": [
          0,
          1,
          2,
          3,
          4,
          5
         ],
         "xaxis": "x20",
         "y": [
          "0",
          " 15",
          " 15",
          " 15",
          " 30",
          " 30"
         ],
         "yaxis": "y20"
        },
        {
         "line": {
          "color": "blue"
         },
         "type": "scatter",
         "x": [
          0,
          1,
          2,
          3,
          4,
          5
         ],
         "xaxis": "x20",
         "y": [
          "0",
          "0",
          "15",
          "30",
          "30",
          "40"
         ],
         "yaxis": "y20"
        },
        {
         "line": {
          "color": "red"
         },
         "type": "scatter",
         "x": [
          0,
          1,
          2,
          3,
          4,
          5
         ],
         "xaxis": "x21",
         "y": [
          "0",
          " 15",
          " 30",
          " 40",
          " 40",
          " 40"
         ],
         "yaxis": "y21"
        },
        {
         "line": {
          "color": "blue"
         },
         "type": "scatter",
         "x": [
          0,
          1,
          2,
          3,
          4,
          5
         ],
         "xaxis": "x21",
         "y": [
          "0",
          "0",
          "0",
          "0",
          "15",
          "30"
         ],
         "yaxis": "y21"
        },
        {
         "line": {
          "color": "red"
         },
         "type": "scatter",
         "x": [
          0,
          1,
          2,
          3
         ],
         "xaxis": "x22",
         "y": [
          "0",
          "15",
          "30",
          "40"
         ],
         "yaxis": "y22"
        },
        {
         "line": {
          "color": "blue"
         },
         "type": "scatter",
         "x": [
          0,
          1,
          2,
          3
         ],
         "xaxis": "x22",
         "y": [
          "0",
          "0",
          "0",
          "0"
         ],
         "yaxis": "y22"
        }
       ],
       "layout": {
        "autosize": false,
        "height": 1000,
        "showlegend": false,
        "template": {
         "data": {
          "bar": [
           {
            "error_x": {
             "color": "#2a3f5f"
            },
            "error_y": {
             "color": "#2a3f5f"
            },
            "marker": {
             "line": {
              "color": "#E5ECF6",
              "width": 0.5
             }
            },
            "type": "bar"
           }
          ],
          "barpolar": [
           {
            "marker": {
             "line": {
              "color": "#E5ECF6",
              "width": 0.5
             }
            },
            "type": "barpolar"
           }
          ],
          "carpet": [
           {
            "aaxis": {
             "endlinecolor": "#2a3f5f",
             "gridcolor": "white",
             "linecolor": "white",
             "minorgridcolor": "white",
             "startlinecolor": "#2a3f5f"
            },
            "baxis": {
             "endlinecolor": "#2a3f5f",
             "gridcolor": "white",
             "linecolor": "white",
             "minorgridcolor": "white",
             "startlinecolor": "#2a3f5f"
            },
            "type": "carpet"
           }
          ],
          "choropleth": [
           {
            "colorbar": {
             "outlinewidth": 0,
             "ticks": ""
            },
            "type": "choropleth"
           }
          ],
          "contour": [
           {
            "colorbar": {
             "outlinewidth": 0,
             "ticks": ""
            },
            "colorscale": [
             [
              0,
              "#0d0887"
             ],
             [
              0.1111111111111111,
              "#46039f"
             ],
             [
              0.2222222222222222,
              "#7201a8"
             ],
             [
              0.3333333333333333,
              "#9c179e"
             ],
             [
              0.4444444444444444,
              "#bd3786"
             ],
             [
              0.5555555555555556,
              "#d8576b"
             ],
             [
              0.6666666666666666,
              "#ed7953"
             ],
             [
              0.7777777777777778,
              "#fb9f3a"
             ],
             [
              0.8888888888888888,
              "#fdca26"
             ],
             [
              1,
              "#f0f921"
             ]
            ],
            "type": "contour"
           }
          ],
          "contourcarpet": [
           {
            "colorbar": {
             "outlinewidth": 0,
             "ticks": ""
            },
            "type": "contourcarpet"
           }
          ],
          "heatmap": [
           {
            "colorbar": {
             "outlinewidth": 0,
             "ticks": ""
            },
            "colorscale": [
             [
              0,
              "#0d0887"
             ],
             [
              0.1111111111111111,
              "#46039f"
             ],
             [
              0.2222222222222222,
              "#7201a8"
             ],
             [
              0.3333333333333333,
              "#9c179e"
             ],
             [
              0.4444444444444444,
              "#bd3786"
             ],
             [
              0.5555555555555556,
              "#d8576b"
             ],
             [
              0.6666666666666666,
              "#ed7953"
             ],
             [
              0.7777777777777778,
              "#fb9f3a"
             ],
             [
              0.8888888888888888,
              "#fdca26"
             ],
             [
              1,
              "#f0f921"
             ]
            ],
            "type": "heatmap"
           }
          ],
          "heatmapgl": [
           {
            "colorbar": {
             "outlinewidth": 0,
             "ticks": ""
            },
            "colorscale": [
             [
              0,
              "#0d0887"
             ],
             [
              0.1111111111111111,
              "#46039f"
             ],
             [
              0.2222222222222222,
              "#7201a8"
             ],
             [
              0.3333333333333333,
              "#9c179e"
             ],
             [
              0.4444444444444444,
              "#bd3786"
             ],
             [
              0.5555555555555556,
              "#d8576b"
             ],
             [
              0.6666666666666666,
              "#ed7953"
             ],
             [
              0.7777777777777778,
              "#fb9f3a"
             ],
             [
              0.8888888888888888,
              "#fdca26"
             ],
             [
              1,
              "#f0f921"
             ]
            ],
            "type": "heatmapgl"
           }
          ],
          "histogram": [
           {
            "marker": {
             "colorbar": {
              "outlinewidth": 0,
              "ticks": ""
             }
            },
            "type": "histogram"
           }
          ],
          "histogram2d": [
           {
            "colorbar": {
             "outlinewidth": 0,
             "ticks": ""
            },
            "colorscale": [
             [
              0,
              "#0d0887"
             ],
             [
              0.1111111111111111,
              "#46039f"
             ],
             [
              0.2222222222222222,
              "#7201a8"
             ],
             [
              0.3333333333333333,
              "#9c179e"
             ],
             [
              0.4444444444444444,
              "#bd3786"
             ],
             [
              0.5555555555555556,
              "#d8576b"
             ],
             [
              0.6666666666666666,
              "#ed7953"
             ],
             [
              0.7777777777777778,
              "#fb9f3a"
             ],
             [
              0.8888888888888888,
              "#fdca26"
             ],
             [
              1,
              "#f0f921"
             ]
            ],
            "type": "histogram2d"
           }
          ],
          "histogram2dcontour": [
           {
            "colorbar": {
             "outlinewidth": 0,
             "ticks": ""
            },
            "colorscale": [
             [
              0,
              "#0d0887"
             ],
             [
              0.1111111111111111,
              "#46039f"
             ],
             [
              0.2222222222222222,
              "#7201a8"
             ],
             [
              0.3333333333333333,
              "#9c179e"
             ],
             [
              0.4444444444444444,
              "#bd3786"
             ],
             [
              0.5555555555555556,
              "#d8576b"
             ],
             [
              0.6666666666666666,
              "#ed7953"
             ],
             [
              0.7777777777777778,
              "#fb9f3a"
             ],
             [
              0.8888888888888888,
              "#fdca26"
             ],
             [
              1,
              "#f0f921"
             ]
            ],
            "type": "histogram2dcontour"
           }
          ],
          "mesh3d": [
           {
            "colorbar": {
             "outlinewidth": 0,
             "ticks": ""
            },
            "type": "mesh3d"
           }
          ],
          "parcoords": [
           {
            "line": {
             "colorbar": {
              "outlinewidth": 0,
              "ticks": ""
             }
            },
            "type": "parcoords"
           }
          ],
          "pie": [
           {
            "automargin": true,
            "type": "pie"
           }
          ],
          "scatter": [
           {
            "marker": {
             "colorbar": {
              "outlinewidth": 0,
              "ticks": ""
             }
            },
            "type": "scatter"
           }
          ],
          "scatter3d": [
           {
            "line": {
             "colorbar": {
              "outlinewidth": 0,
              "ticks": ""
             }
            },
            "marker": {
             "colorbar": {
              "outlinewidth": 0,
              "ticks": ""
             }
            },
            "type": "scatter3d"
           }
          ],
          "scattercarpet": [
           {
            "marker": {
             "colorbar": {
              "outlinewidth": 0,
              "ticks": ""
             }
            },
            "type": "scattercarpet"
           }
          ],
          "scattergeo": [
           {
            "marker": {
             "colorbar": {
              "outlinewidth": 0,
              "ticks": ""
             }
            },
            "type": "scattergeo"
           }
          ],
          "scattergl": [
           {
            "marker": {
             "colorbar": {
              "outlinewidth": 0,
              "ticks": ""
             }
            },
            "type": "scattergl"
           }
          ],
          "scattermapbox": [
           {
            "marker": {
             "colorbar": {
              "outlinewidth": 0,
              "ticks": ""
             }
            },
            "type": "scattermapbox"
           }
          ],
          "scatterpolar": [
           {
            "marker": {
             "colorbar": {
              "outlinewidth": 0,
              "ticks": ""
             }
            },
            "type": "scatterpolar"
           }
          ],
          "scatterpolargl": [
           {
            "marker": {
             "colorbar": {
              "outlinewidth": 0,
              "ticks": ""
             }
            },
            "type": "scatterpolargl"
           }
          ],
          "scatterternary": [
           {
            "marker": {
             "colorbar": {
              "outlinewidth": 0,
              "ticks": ""
             }
            },
            "type": "scatterternary"
           }
          ],
          "surface": [
           {
            "colorbar": {
             "outlinewidth": 0,
             "ticks": ""
            },
            "colorscale": [
             [
              0,
              "#0d0887"
             ],
             [
              0.1111111111111111,
              "#46039f"
             ],
             [
              0.2222222222222222,
              "#7201a8"
             ],
             [
              0.3333333333333333,
              "#9c179e"
             ],
             [
              0.4444444444444444,
              "#bd3786"
             ],
             [
              0.5555555555555556,
              "#d8576b"
             ],
             [
              0.6666666666666666,
              "#ed7953"
             ],
             [
              0.7777777777777778,
              "#fb9f3a"
             ],
             [
              0.8888888888888888,
              "#fdca26"
             ],
             [
              1,
              "#f0f921"
             ]
            ],
            "type": "surface"
           }
          ],
          "table": [
           {
            "cells": {
             "fill": {
              "color": "#EBF0F8"
             },
             "line": {
              "color": "white"
             }
            },
            "header": {
             "fill": {
              "color": "#C8D4E3"
             },
             "line": {
              "color": "white"
             }
            },
            "type": "table"
           }
          ]
         },
         "layout": {
          "annotationdefaults": {
           "arrowcolor": "#2a3f5f",
           "arrowhead": 0,
           "arrowwidth": 1
          },
          "coloraxis": {
           "colorbar": {
            "outlinewidth": 0,
            "ticks": ""
           }
          },
          "colorscale": {
           "diverging": [
            [
             0,
             "#8e0152"
            ],
            [
             0.1,
             "#c51b7d"
            ],
            [
             0.2,
             "#de77ae"
            ],
            [
             0.3,
             "#f1b6da"
            ],
            [
             0.4,
             "#fde0ef"
            ],
            [
             0.5,
             "#f7f7f7"
            ],
            [
             0.6,
             "#e6f5d0"
            ],
            [
             0.7,
             "#b8e186"
            ],
            [
             0.8,
             "#7fbc41"
            ],
            [
             0.9,
             "#4d9221"
            ],
            [
             1,
             "#276419"
            ]
           ],
           "sequential": [
            [
             0,
             "#0d0887"
            ],
            [
             0.1111111111111111,
             "#46039f"
            ],
            [
             0.2222222222222222,
             "#7201a8"
            ],
            [
             0.3333333333333333,
             "#9c179e"
            ],
            [
             0.4444444444444444,
             "#bd3786"
            ],
            [
             0.5555555555555556,
             "#d8576b"
            ],
            [
             0.6666666666666666,
             "#ed7953"
            ],
            [
             0.7777777777777778,
             "#fb9f3a"
            ],
            [
             0.8888888888888888,
             "#fdca26"
            ],
            [
             1,
             "#f0f921"
            ]
           ],
           "sequentialminus": [
            [
             0,
             "#0d0887"
            ],
            [
             0.1111111111111111,
             "#46039f"
            ],
            [
             0.2222222222222222,
             "#7201a8"
            ],
            [
             0.3333333333333333,
             "#9c179e"
            ],
            [
             0.4444444444444444,
             "#bd3786"
            ],
            [
             0.5555555555555556,
             "#d8576b"
            ],
            [
             0.6666666666666666,
             "#ed7953"
            ],
            [
             0.7777777777777778,
             "#fb9f3a"
            ],
            [
             0.8888888888888888,
             "#fdca26"
            ],
            [
             1,
             "#f0f921"
            ]
           ]
          },
          "colorway": [
           "#636efa",
           "#EF553B",
           "#00cc96",
           "#ab63fa",
           "#FFA15A",
           "#19d3f3",
           "#FF6692",
           "#B6E880",
           "#FF97FF",
           "#FECB52"
          ],
          "font": {
           "color": "#2a3f5f"
          },
          "geo": {
           "bgcolor": "white",
           "lakecolor": "white",
           "landcolor": "#E5ECF6",
           "showlakes": true,
           "showland": true,
           "subunitcolor": "white"
          },
          "hoverlabel": {
           "align": "left"
          },
          "hovermode": "closest",
          "mapbox": {
           "style": "light"
          },
          "paper_bgcolor": "white",
          "plot_bgcolor": "#E5ECF6",
          "polar": {
           "angularaxis": {
            "gridcolor": "white",
            "linecolor": "white",
            "ticks": ""
           },
           "bgcolor": "#E5ECF6",
           "radialaxis": {
            "gridcolor": "white",
            "linecolor": "white",
            "ticks": ""
           }
          },
          "scene": {
           "xaxis": {
            "backgroundcolor": "#E5ECF6",
            "gridcolor": "white",
            "gridwidth": 2,
            "linecolor": "white",
            "showbackground": true,
            "ticks": "",
            "zerolinecolor": "white"
           },
           "yaxis": {
            "backgroundcolor": "#E5ECF6",
            "gridcolor": "white",
            "gridwidth": 2,
            "linecolor": "white",
            "showbackground": true,
            "ticks": "",
            "zerolinecolor": "white"
           },
           "zaxis": {
            "backgroundcolor": "#E5ECF6",
            "gridcolor": "white",
            "gridwidth": 2,
            "linecolor": "white",
            "showbackground": true,
            "ticks": "",
            "zerolinecolor": "white"
           }
          },
          "shapedefaults": {
           "line": {
            "color": "#2a3f5f"
           }
          },
          "ternary": {
           "aaxis": {
            "gridcolor": "white",
            "linecolor": "white",
            "ticks": ""
           },
           "baxis": {
            "gridcolor": "white",
            "linecolor": "white",
            "ticks": ""
           },
           "bgcolor": "#E5ECF6",
           "caxis": {
            "gridcolor": "white",
            "linecolor": "white",
            "ticks": ""
           }
          },
          "title": {
           "x": 0.05
          },
          "xaxis": {
           "automargin": true,
           "gridcolor": "white",
           "linecolor": "white",
           "ticks": "",
           "title": {
            "standoff": 15
           },
           "zerolinecolor": "white",
           "zerolinewidth": 2
          },
          "yaxis": {
           "automargin": true,
           "gridcolor": "white",
           "linecolor": "white",
           "ticks": "",
           "title": {
            "standoff": 15
           },
           "zerolinecolor": "white",
           "zerolinewidth": 2
          }
         }
        },
        "title": {
         "text": "Matthew Ebden/John-Patrick Smith  and Juan-Sebastian Cabal/Robert Farah   Melbourne  1/2"
        },
        "width": 3000,
        "xaxis": {
         "anchor": "y",
         "domain": [
          0,
          0.07438016528925619
         ],
         "showgrid": false,
         "showticklabels": false,
         "zeroline": false
        },
        "xaxis10": {
         "anchor": "y10",
         "domain": [
          0.8330578512396694,
          0.9074380165289255
         ],
         "showgrid": false,
         "showticklabels": false,
         "zeroline": false
        },
        "xaxis11": {
         "anchor": "y11",
         "domain": [
          0.9256198347107437,
          0.9999999999999999
         ],
         "showgrid": false,
         "showticklabels": false,
         "zeroline": false
        },
        "xaxis12": {
         "anchor": "y12",
         "domain": [
          0,
          0.07438016528925619
         ],
         "showgrid": false,
         "showticklabels": false,
         "zeroline": false
        },
        "xaxis13": {
         "anchor": "y13",
         "domain": [
          0.09256198347107437,
          0.16694214876033056
         ],
         "showgrid": false,
         "showticklabels": false,
         "zeroline": false
        },
        "xaxis14": {
         "anchor": "y14",
         "domain": [
          0.18512396694214875,
          0.25950413223140495
         ],
         "showgrid": false,
         "showticklabels": false,
         "zeroline": false
        },
        "xaxis15": {
         "anchor": "y15",
         "domain": [
          0.27768595041322314,
          0.3520661157024793
         ],
         "showgrid": false,
         "showticklabels": false,
         "zeroline": false
        },
        "xaxis16": {
         "anchor": "y16",
         "domain": [
          0.3702479338842975,
          0.44462809917355367
         ],
         "showgrid": false,
         "showticklabels": false,
         "zeroline": false
        },
        "xaxis17": {
         "anchor": "y17",
         "domain": [
          0.46280991735537186,
          0.5371900826446281
         ],
         "showgrid": false,
         "showticklabels": false,
         "zeroline": false
        },
        "xaxis18": {
         "anchor": "y18",
         "domain": [
          0.5553719008264462,
          0.6297520661157023
         ],
         "showgrid": false,
         "showticklabels": false,
         "zeroline": false
        },
        "xaxis19": {
         "anchor": "y19",
         "domain": [
          0.6479338842975206,
          0.7223140495867768
         ],
         "showgrid": false,
         "showticklabels": false,
         "zeroline": false
        },
        "xaxis2": {
         "anchor": "y2",
         "domain": [
          0.09256198347107437,
          0.16694214876033056
         ],
         "showgrid": false,
         "showticklabels": false,
         "zeroline": false
        },
        "xaxis20": {
         "anchor": "y20",
         "domain": [
          0.740495867768595,
          0.8148760330578512
         ],
         "showgrid": false,
         "showticklabels": false,
         "zeroline": false
        },
        "xaxis21": {
         "anchor": "y21",
         "domain": [
          0.8330578512396694,
          0.9074380165289255
         ],
         "showgrid": false,
         "showticklabels": false,
         "zeroline": false
        },
        "xaxis22": {
         "anchor": "y22",
         "domain": [
          0.9256198347107437,
          0.9999999999999999
         ],
         "showgrid": false,
         "showticklabels": false,
         "zeroline": false
        },
        "xaxis3": {
         "anchor": "y3",
         "domain": [
          0.18512396694214875,
          0.25950413223140495
         ],
         "showgrid": false,
         "showticklabels": false,
         "zeroline": false
        },
        "xaxis4": {
         "anchor": "y4",
         "domain": [
          0.27768595041322314,
          0.3520661157024793
         ],
         "showgrid": false,
         "showticklabels": false,
         "zeroline": false
        },
        "xaxis5": {
         "anchor": "y5",
         "domain": [
          0.3702479338842975,
          0.44462809917355367
         ],
         "showgrid": false,
         "showticklabels": false,
         "zeroline": false
        },
        "xaxis6": {
         "anchor": "y6",
         "domain": [
          0.46280991735537186,
          0.5371900826446281
         ],
         "showgrid": false,
         "showticklabels": false,
         "zeroline": false
        },
        "xaxis7": {
         "anchor": "y7",
         "domain": [
          0.5553719008264462,
          0.6297520661157023
         ],
         "showgrid": false,
         "showticklabels": false,
         "zeroline": false
        },
        "xaxis8": {
         "anchor": "y8",
         "domain": [
          0.6479338842975206,
          0.7223140495867768
         ],
         "showgrid": false,
         "showticklabels": false,
         "zeroline": false
        },
        "xaxis9": {
         "anchor": "y9",
         "domain": [
          0.740495867768595,
          0.8148760330578512
         ],
         "showgrid": false,
         "showticklabels": false,
         "zeroline": false
        },
        "yaxis": {
         "anchor": "x",
         "domain": [
          0.575,
          1
         ],
         "showgrid": false,
         "tickvals": [
          "0",
          "15",
          "30",
          "40"
         ],
         "zeroline": false
        },
        "yaxis10": {
         "anchor": "x10",
         "domain": [
          0.575,
          1
         ],
         "showgrid": false,
         "tickvals": [
          "0",
          "15",
          "30",
          "40"
         ],
         "zeroline": false
        },
        "yaxis11": {
         "anchor": "x11",
         "domain": [
          0.575,
          1
         ],
         "showgrid": false,
         "tickvals": [
          "0",
          "15",
          "30",
          "40"
         ],
         "zeroline": false
        },
        "yaxis12": {
         "anchor": "x12",
         "domain": [
          0,
          0.425
         ],
         "showgrid": false,
         "tickvals": [
          "0",
          "15",
          "30",
          "40"
         ],
         "zeroline": false
        },
        "yaxis13": {
         "anchor": "x13",
         "domain": [
          0,
          0.425
         ],
         "showgrid": false,
         "tickvals": [
          "0",
          "15",
          "30",
          "40"
         ],
         "zeroline": false
        },
        "yaxis14": {
         "anchor": "x14",
         "domain": [
          0,
          0.425
         ],
         "showgrid": false,
         "tickvals": [
          "0",
          "15",
          "30",
          "40"
         ],
         "zeroline": false
        },
        "yaxis15": {
         "anchor": "x15",
         "domain": [
          0,
          0.425
         ],
         "showgrid": false,
         "tickvals": [
          "0",
          "15",
          "30",
          "40"
         ],
         "zeroline": false
        },
        "yaxis16": {
         "anchor": "x16",
         "domain": [
          0,
          0.425
         ],
         "showgrid": false,
         "tickvals": [
          "0",
          "15",
          "30",
          "40"
         ],
         "zeroline": false
        },
        "yaxis17": {
         "anchor": "x17",
         "domain": [
          0,
          0.425
         ],
         "showgrid": false,
         "tickvals": [
          "0",
          "15",
          "30",
          "40"
         ],
         "zeroline": false
        },
        "yaxis18": {
         "anchor": "x18",
         "domain": [
          0,
          0.425
         ],
         "showgrid": false,
         "tickvals": [
          "0",
          "15",
          "30",
          "40"
         ],
         "zeroline": false
        },
        "yaxis19": {
         "anchor": "x19",
         "domain": [
          0,
          0.425
         ],
         "showgrid": false,
         "tickvals": [
          "0",
          "15",
          "30",
          "40"
         ],
         "zeroline": false
        },
        "yaxis2": {
         "anchor": "x2",
         "domain": [
          0.575,
          1
         ],
         "showgrid": false,
         "tickvals": [
          "0",
          "15",
          "30",
          "40"
         ],
         "zeroline": false
        },
        "yaxis20": {
         "anchor": "x20",
         "domain": [
          0,
          0.425
         ],
         "showgrid": false,
         "tickvals": [
          "0",
          "15",
          "30",
          "40"
         ],
         "zeroline": false
        },
        "yaxis21": {
         "anchor": "x21",
         "domain": [
          0,
          0.425
         ],
         "showgrid": false,
         "tickvals": [
          "0",
          "15",
          "30",
          "40"
         ],
         "zeroline": false
        },
        "yaxis22": {
         "anchor": "x22",
         "domain": [
          0,
          0.425
         ],
         "showgrid": false,
         "tickvals": [
          "0",
          "15",
          "30",
          "40"
         ],
         "zeroline": false
        },
        "yaxis3": {
         "anchor": "x3",
         "domain": [
          0.575,
          1
         ],
         "showgrid": false,
         "tickvals": [
          "0",
          "15",
          "30",
          "40"
         ],
         "zeroline": false
        },
        "yaxis4": {
         "anchor": "x4",
         "domain": [
          0.575,
          1
         ],
         "showgrid": false,
         "tickvals": [
          "0",
          "15",
          "30",
          "40"
         ],
         "zeroline": false
        },
        "yaxis5": {
         "anchor": "x5",
         "domain": [
          0.575,
          1
         ],
         "showgrid": false,
         "tickvals": [
          "0",
          "15",
          "30",
          "40"
         ],
         "zeroline": false
        },
        "yaxis6": {
         "anchor": "x6",
         "domain": [
          0.575,
          1
         ],
         "showgrid": false,
         "tickvals": [
          "0",
          "15",
          "30",
          "40"
         ],
         "zeroline": false
        },
        "yaxis7": {
         "anchor": "x7",
         "domain": [
          0.575,
          1
         ],
         "showgrid": false,
         "tickvals": [
          "0",
          "15",
          "30",
          "40"
         ],
         "zeroline": false
        },
        "yaxis8": {
         "anchor": "x8",
         "domain": [
          0.575,
          1
         ],
         "showgrid": false,
         "tickvals": [
          "0",
          "15",
          "30",
          "40"
         ],
         "zeroline": false
        },
        "yaxis9": {
         "anchor": "x9",
         "domain": [
          0.575,
          1
         ],
         "showgrid": false,
         "tickvals": [
          "0",
          "15",
          "30",
          "40"
         ],
         "zeroline": false
        }
       }
      }
     },
     "metadata": {}
    }
   ],
   "source": [
    "title = (playernames[0]+' and '+playernames[1]+' '+tournament_name+' '+round_number)\n",
    "\n",
    "fig = make_subplots(\n",
    "    rows=len(no_of_sets), cols=max(columns_))\n",
    "\n",
    "\n",
    "for k in no_of_sets:\n",
    "    df= dataframe[dataframe['set_details']==k]\n",
    "    for r in range(1,columns_[k-1]+1):\n",
    "        \n",
    "        final_df = (df[df['set_number'] == r])\n",
    "        max_x= (len(final_df['set_number']))\n",
    "        x_ = np.arange(0, max_x,1)\n",
    "        fig.add_trace(\n",
    "            go.Scatter(x=x_,y=final_df['points_of_1'],line_color = \"red\"),\n",
    "            row=k, col=r)\n",
    "        fig.add_trace(\n",
    "            go.Scatter(x=x_, y=final_df['points_of_2'],line_color =\"blue\"),\n",
    "            row=k, col=r)\n",
    "    \n",
    "\n",
    "\n",
    "#Update height, width and title\n",
    "fig.update_layout(autosize=False,height=1000, width=3000, title_text=title[0])\n",
    "\n",
    "fig.update_yaxes(tickvals=['0', '15', '30', '40'])\n",
    "\n",
    "#Make labels disappear on x axis\n",
    "fig.update_xaxes(showticklabels=False)\n",
    "\n",
    "#Don't display the trace values in the charts\n",
    "fig.update_layout(showlegend=False)\n",
    "\n",
    "#Make x axes disappear\n",
    "fig.update_xaxes(showgrid=False,zeroline=False)\n",
    "\n",
    "#Make y axes disappear\n",
    "fig.update_yaxes(showgrid=False,zeroline=False)\n",
    "\n",
    "#Display all charts\n",
    "fig.show()"
   ]
  },
  {
   "cell_type": "code",
   "execution_count": 209,
   "metadata": {},
   "outputs": [
    {
     "output_type": "execute_result",
     "data": {
      "text/plain": [
       "    set_details  player1_game_score  player2_game_score  \\\n",
       "45            2                   3                   2   \n",
       "46            2                   3                   2   \n",
       "47            2                   3                   2   \n",
       "48            2                   3                   2   \n",
       "49            2                   4                   2   \n",
       "50            2                   4                   2   \n",
       "51            2                   4                   2   \n",
       "52            2                   4                   2   \n",
       "53            2                   4                   3   \n",
       "54            2                   4                   3   \n",
       "55            2                   4                   3   \n",
       "56            2                   4                   3   \n",
       "57            2                   4                   3   \n",
       "58            2                   4                   3   \n",
       "59            2                   5                   3   \n",
       "60            2                   5                   3   \n",
       "61            2                   5                   3   \n",
       "62            2                   5                   3   \n",
       "63            2                   5                   3   \n",
       "64            2                   5                   3   \n",
       "65            2                   5                   4   \n",
       "66            2                   5                   4   \n",
       "67            2                   5                   4   \n",
       "68            2                   5                   4   \n",
       "69            2                   5                   4   \n",
       "70            2                   5                   4   \n",
       "71            2                   6                   4   \n",
       "72            2                   6                   4   \n",
       "73            2                   6                   4   \n",
       "74            2                   6                   4   \n",
       "\n",
       "                                server  points  server_number points_to_list  \\\n",
       "45  Juan-Sebastian Cabal/Robert Farah    15-15              1      [ 15, 15]   \n",
       "46  Juan-Sebastian Cabal/Robert Farah    15-30              1      [ 15, 30]   \n",
       "47  Juan-Sebastian Cabal/Robert Farah    30-30              1      [ 30, 30]   \n",
       "48  Juan-Sebastian Cabal/Robert Farah    40-30              1      [ 40, 30]   \n",
       "49   Matthew Ebden/John-Patrick Smith      0-0              0         [0, 0]   \n",
       "50   Matthew Ebden/John-Patrick Smith     0-15              0       [ 0, 15]   \n",
       "51   Matthew Ebden/John-Patrick Smith     0-30              0       [ 0, 30]   \n",
       "52   Matthew Ebden/John-Patrick Smith     0-40              0       [ 0, 40]   \n",
       "53  Juan-Sebastian Cabal/Robert Farah      0-0              1         [0, 0]   \n",
       "54  Juan-Sebastian Cabal/Robert Farah     0-15              1       [ 0, 15]   \n",
       "55  Juan-Sebastian Cabal/Robert Farah    15-15              1      [ 15, 15]   \n",
       "56  Juan-Sebastian Cabal/Robert Farah    30-15              1      [ 30, 15]   \n",
       "57  Juan-Sebastian Cabal/Robert Farah    40-15              1      [ 40, 15]   \n",
       "58  Juan-Sebastian Cabal/Robert Farah    40-30              1      [ 40, 30]   \n",
       "59   Matthew Ebden/John-Patrick Smith      0-0              0         [0, 0]   \n",
       "60   Matthew Ebden/John-Patrick Smith     15-0              0       [ 15, 0]   \n",
       "61   Matthew Ebden/John-Patrick Smith    15-15              0      [ 15, 15]   \n",
       "62   Matthew Ebden/John-Patrick Smith    15-30              0      [ 15, 30]   \n",
       "63   Matthew Ebden/John-Patrick Smith    30-30              0      [ 30, 30]   \n",
       "64   Matthew Ebden/John-Patrick Smith    30-40              0      [ 30, 40]   \n",
       "65  Juan-Sebastian Cabal/Robert Farah      0-0              1         [0, 0]   \n",
       "66  Juan-Sebastian Cabal/Robert Farah     15-0              1       [ 15, 0]   \n",
       "67  Juan-Sebastian Cabal/Robert Farah     30-0              1       [ 30, 0]   \n",
       "68  Juan-Sebastian Cabal/Robert Farah     40-0              1       [ 40, 0]   \n",
       "69  Juan-Sebastian Cabal/Robert Farah    40-15              1      [ 40, 15]   \n",
       "70  Juan-Sebastian Cabal/Robert Farah    40-30              1      [ 40, 30]   \n",
       "71   Matthew Ebden/John-Patrick Smith      0-0              0         [0, 0]   \n",
       "72   Matthew Ebden/John-Patrick Smith     15-0              0        [15, 0]   \n",
       "73   Matthew Ebden/John-Patrick Smith     30-0              0        [30, 0]   \n",
       "74   Matthew Ebden/John-Patrick Smith     40-0              0        [40, 0]   \n",
       "\n",
       "   points_of_1 points_of_2  set_number  \n",
       "45          15          15           6  \n",
       "46          15          30           6  \n",
       "47          30          30           6  \n",
       "48          40          30           6  \n",
       "49           0           0           7  \n",
       "50           0          15           7  \n",
       "51           0          30           7  \n",
       "52           0          40           7  \n",
       "53           0           0           8  \n",
       "54           0          15           8  \n",
       "55          15          15           8  \n",
       "56          30          15           8  \n",
       "57          40          15           8  \n",
       "58          40          30           8  \n",
       "59           0           0           9  \n",
       "60          15           0           9  \n",
       "61          15          15           9  \n",
       "62          15          30           9  \n",
       "63          30          30           9  \n",
       "64          30          40           9  \n",
       "65           0           0          10  \n",
       "66          15           0          10  \n",
       "67          30           0          10  \n",
       "68          40           0          10  \n",
       "69          40          15          10  \n",
       "70          40          30          10  \n",
       "71           0           0          11  \n",
       "72          15           0          11  \n",
       "73          30           0          11  \n",
       "74          40           0          11  "
      ],
      "text/html": "<div>\n<style scoped>\n    .dataframe tbody tr th:only-of-type {\n        vertical-align: middle;\n    }\n\n    .dataframe tbody tr th {\n        vertical-align: top;\n    }\n\n    .dataframe thead th {\n        text-align: right;\n    }\n</style>\n<table border=\"1\" class=\"dataframe\">\n  <thead>\n    <tr style=\"text-align: right;\">\n      <th></th>\n      <th>set_details</th>\n      <th>player1_game_score</th>\n      <th>player2_game_score</th>\n      <th>server</th>\n      <th>points</th>\n      <th>server_number</th>\n      <th>points_to_list</th>\n      <th>points_of_1</th>\n      <th>points_of_2</th>\n      <th>set_number</th>\n    </tr>\n  </thead>\n  <tbody>\n    <tr>\n      <th>45</th>\n      <td>2</td>\n      <td>3</td>\n      <td>2</td>\n      <td>Juan-Sebastian Cabal/Robert Farah</td>\n      <td>15-15</td>\n      <td>1</td>\n      <td>[ 15, 15]</td>\n      <td>15</td>\n      <td>15</td>\n      <td>6</td>\n    </tr>\n    <tr>\n      <th>46</th>\n      <td>2</td>\n      <td>3</td>\n      <td>2</td>\n      <td>Juan-Sebastian Cabal/Robert Farah</td>\n      <td>15-30</td>\n      <td>1</td>\n      <td>[ 15, 30]</td>\n      <td>15</td>\n      <td>30</td>\n      <td>6</td>\n    </tr>\n    <tr>\n      <th>47</th>\n      <td>2</td>\n      <td>3</td>\n      <td>2</td>\n      <td>Juan-Sebastian Cabal/Robert Farah</td>\n      <td>30-30</td>\n      <td>1</td>\n      <td>[ 30, 30]</td>\n      <td>30</td>\n      <td>30</td>\n      <td>6</td>\n    </tr>\n    <tr>\n      <th>48</th>\n      <td>2</td>\n      <td>3</td>\n      <td>2</td>\n      <td>Juan-Sebastian Cabal/Robert Farah</td>\n      <td>40-30</td>\n      <td>1</td>\n      <td>[ 40, 30]</td>\n      <td>40</td>\n      <td>30</td>\n      <td>6</td>\n    </tr>\n    <tr>\n      <th>49</th>\n      <td>2</td>\n      <td>4</td>\n      <td>2</td>\n      <td>Matthew Ebden/John-Patrick Smith</td>\n      <td>0-0</td>\n      <td>0</td>\n      <td>[0, 0]</td>\n      <td>0</td>\n      <td>0</td>\n      <td>7</td>\n    </tr>\n    <tr>\n      <th>50</th>\n      <td>2</td>\n      <td>4</td>\n      <td>2</td>\n      <td>Matthew Ebden/John-Patrick Smith</td>\n      <td>0-15</td>\n      <td>0</td>\n      <td>[ 0, 15]</td>\n      <td>0</td>\n      <td>15</td>\n      <td>7</td>\n    </tr>\n    <tr>\n      <th>51</th>\n      <td>2</td>\n      <td>4</td>\n      <td>2</td>\n      <td>Matthew Ebden/John-Patrick Smith</td>\n      <td>0-30</td>\n      <td>0</td>\n      <td>[ 0, 30]</td>\n      <td>0</td>\n      <td>30</td>\n      <td>7</td>\n    </tr>\n    <tr>\n      <th>52</th>\n      <td>2</td>\n      <td>4</td>\n      <td>2</td>\n      <td>Matthew Ebden/John-Patrick Smith</td>\n      <td>0-40</td>\n      <td>0</td>\n      <td>[ 0, 40]</td>\n      <td>0</td>\n      <td>40</td>\n      <td>7</td>\n    </tr>\n    <tr>\n      <th>53</th>\n      <td>2</td>\n      <td>4</td>\n      <td>3</td>\n      <td>Juan-Sebastian Cabal/Robert Farah</td>\n      <td>0-0</td>\n      <td>1</td>\n      <td>[0, 0]</td>\n      <td>0</td>\n      <td>0</td>\n      <td>8</td>\n    </tr>\n    <tr>\n      <th>54</th>\n      <td>2</td>\n      <td>4</td>\n      <td>3</td>\n      <td>Juan-Sebastian Cabal/Robert Farah</td>\n      <td>0-15</td>\n      <td>1</td>\n      <td>[ 0, 15]</td>\n      <td>0</td>\n      <td>15</td>\n      <td>8</td>\n    </tr>\n    <tr>\n      <th>55</th>\n      <td>2</td>\n      <td>4</td>\n      <td>3</td>\n      <td>Juan-Sebastian Cabal/Robert Farah</td>\n      <td>15-15</td>\n      <td>1</td>\n      <td>[ 15, 15]</td>\n      <td>15</td>\n      <td>15</td>\n      <td>8</td>\n    </tr>\n    <tr>\n      <th>56</th>\n      <td>2</td>\n      <td>4</td>\n      <td>3</td>\n      <td>Juan-Sebastian Cabal/Robert Farah</td>\n      <td>30-15</td>\n      <td>1</td>\n      <td>[ 30, 15]</td>\n      <td>30</td>\n      <td>15</td>\n      <td>8</td>\n    </tr>\n    <tr>\n      <th>57</th>\n      <td>2</td>\n      <td>4</td>\n      <td>3</td>\n      <td>Juan-Sebastian Cabal/Robert Farah</td>\n      <td>40-15</td>\n      <td>1</td>\n      <td>[ 40, 15]</td>\n      <td>40</td>\n      <td>15</td>\n      <td>8</td>\n    </tr>\n    <tr>\n      <th>58</th>\n      <td>2</td>\n      <td>4</td>\n      <td>3</td>\n      <td>Juan-Sebastian Cabal/Robert Farah</td>\n      <td>40-30</td>\n      <td>1</td>\n      <td>[ 40, 30]</td>\n      <td>40</td>\n      <td>30</td>\n      <td>8</td>\n    </tr>\n    <tr>\n      <th>59</th>\n      <td>2</td>\n      <td>5</td>\n      <td>3</td>\n      <td>Matthew Ebden/John-Patrick Smith</td>\n      <td>0-0</td>\n      <td>0</td>\n      <td>[0, 0]</td>\n      <td>0</td>\n      <td>0</td>\n      <td>9</td>\n    </tr>\n    <tr>\n      <th>60</th>\n      <td>2</td>\n      <td>5</td>\n      <td>3</td>\n      <td>Matthew Ebden/John-Patrick Smith</td>\n      <td>15-0</td>\n      <td>0</td>\n      <td>[ 15, 0]</td>\n      <td>15</td>\n      <td>0</td>\n      <td>9</td>\n    </tr>\n    <tr>\n      <th>61</th>\n      <td>2</td>\n      <td>5</td>\n      <td>3</td>\n      <td>Matthew Ebden/John-Patrick Smith</td>\n      <td>15-15</td>\n      <td>0</td>\n      <td>[ 15, 15]</td>\n      <td>15</td>\n      <td>15</td>\n      <td>9</td>\n    </tr>\n    <tr>\n      <th>62</th>\n      <td>2</td>\n      <td>5</td>\n      <td>3</td>\n      <td>Matthew Ebden/John-Patrick Smith</td>\n      <td>15-30</td>\n      <td>0</td>\n      <td>[ 15, 30]</td>\n      <td>15</td>\n      <td>30</td>\n      <td>9</td>\n    </tr>\n    <tr>\n      <th>63</th>\n      <td>2</td>\n      <td>5</td>\n      <td>3</td>\n      <td>Matthew Ebden/John-Patrick Smith</td>\n      <td>30-30</td>\n      <td>0</td>\n      <td>[ 30, 30]</td>\n      <td>30</td>\n      <td>30</td>\n      <td>9</td>\n    </tr>\n    <tr>\n      <th>64</th>\n      <td>2</td>\n      <td>5</td>\n      <td>3</td>\n      <td>Matthew Ebden/John-Patrick Smith</td>\n      <td>30-40</td>\n      <td>0</td>\n      <td>[ 30, 40]</td>\n      <td>30</td>\n      <td>40</td>\n      <td>9</td>\n    </tr>\n    <tr>\n      <th>65</th>\n      <td>2</td>\n      <td>5</td>\n      <td>4</td>\n      <td>Juan-Sebastian Cabal/Robert Farah</td>\n      <td>0-0</td>\n      <td>1</td>\n      <td>[0, 0]</td>\n      <td>0</td>\n      <td>0</td>\n      <td>10</td>\n    </tr>\n    <tr>\n      <th>66</th>\n      <td>2</td>\n      <td>5</td>\n      <td>4</td>\n      <td>Juan-Sebastian Cabal/Robert Farah</td>\n      <td>15-0</td>\n      <td>1</td>\n      <td>[ 15, 0]</td>\n      <td>15</td>\n      <td>0</td>\n      <td>10</td>\n    </tr>\n    <tr>\n      <th>67</th>\n      <td>2</td>\n      <td>5</td>\n      <td>4</td>\n      <td>Juan-Sebastian Cabal/Robert Farah</td>\n      <td>30-0</td>\n      <td>1</td>\n      <td>[ 30, 0]</td>\n      <td>30</td>\n      <td>0</td>\n      <td>10</td>\n    </tr>\n    <tr>\n      <th>68</th>\n      <td>2</td>\n      <td>5</td>\n      <td>4</td>\n      <td>Juan-Sebastian Cabal/Robert Farah</td>\n      <td>40-0</td>\n      <td>1</td>\n      <td>[ 40, 0]</td>\n      <td>40</td>\n      <td>0</td>\n      <td>10</td>\n    </tr>\n    <tr>\n      <th>69</th>\n      <td>2</td>\n      <td>5</td>\n      <td>4</td>\n      <td>Juan-Sebastian Cabal/Robert Farah</td>\n      <td>40-15</td>\n      <td>1</td>\n      <td>[ 40, 15]</td>\n      <td>40</td>\n      <td>15</td>\n      <td>10</td>\n    </tr>\n    <tr>\n      <th>70</th>\n      <td>2</td>\n      <td>5</td>\n      <td>4</td>\n      <td>Juan-Sebastian Cabal/Robert Farah</td>\n      <td>40-30</td>\n      <td>1</td>\n      <td>[ 40, 30]</td>\n      <td>40</td>\n      <td>30</td>\n      <td>10</td>\n    </tr>\n    <tr>\n      <th>71</th>\n      <td>2</td>\n      <td>6</td>\n      <td>4</td>\n      <td>Matthew Ebden/John-Patrick Smith</td>\n      <td>0-0</td>\n      <td>0</td>\n      <td>[0, 0]</td>\n      <td>0</td>\n      <td>0</td>\n      <td>11</td>\n    </tr>\n    <tr>\n      <th>72</th>\n      <td>2</td>\n      <td>6</td>\n      <td>4</td>\n      <td>Matthew Ebden/John-Patrick Smith</td>\n      <td>15-0</td>\n      <td>0</td>\n      <td>[15, 0]</td>\n      <td>15</td>\n      <td>0</td>\n      <td>11</td>\n    </tr>\n    <tr>\n      <th>73</th>\n      <td>2</td>\n      <td>6</td>\n      <td>4</td>\n      <td>Matthew Ebden/John-Patrick Smith</td>\n      <td>30-0</td>\n      <td>0</td>\n      <td>[30, 0]</td>\n      <td>30</td>\n      <td>0</td>\n      <td>11</td>\n    </tr>\n    <tr>\n      <th>74</th>\n      <td>2</td>\n      <td>6</td>\n      <td>4</td>\n      <td>Matthew Ebden/John-Patrick Smith</td>\n      <td>40-0</td>\n      <td>0</td>\n      <td>[40, 0]</td>\n      <td>40</td>\n      <td>0</td>\n      <td>11</td>\n    </tr>\n  </tbody>\n</table>\n</div>"
     },
     "metadata": {},
     "execution_count": 209
    }
   ],
   "source": [
    "dataframe.tail(30)"
   ]
  }
 ]
}